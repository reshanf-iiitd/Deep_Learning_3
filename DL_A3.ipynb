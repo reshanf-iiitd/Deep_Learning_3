{
  "nbformat": 4,
  "nbformat_minor": 0,
  "metadata": {
    "colab": {
      "name": "DL_A3.ipynb",
      "provenance": []
    },
    "kernelspec": {
      "name": "python3",
      "display_name": "Python 3"
    },
    "language_info": {
      "name": "python"
    },
    "accelerator": "GPU"
  },
  "cells": [
    {
      "cell_type": "code",
      "metadata": {
        "id": "VA8bNFqzFymC",
        "colab": {
          "base_uri": "https://localhost:8080/"
        },
        "outputId": "3dd76440-4c9d-4f06-80a2-21b338dc6157"
      },
      "source": [
        "import numpy as np\n",
        "import re\n",
        "from gensim.models import KeyedVectors\n",
        "import nltk\n",
        "from nltk.corpus import stopwords\n",
        "from nltk.stem.porter import PorterStemmer\n",
        "nltk.download('stopwords')\n",
        "nltk.download('punkt')\n",
        "!pip install gensim\n",
        "import gensim\n",
        "from gensim.models import Word2Vec"
      ],
      "execution_count": 2,
      "outputs": [
        {
          "output_type": "stream",
          "text": [
            "[nltk_data] Downloading package stopwords to /root/nltk_data...\n",
            "[nltk_data]   Package stopwords is already up-to-date!\n",
            "[nltk_data] Downloading package punkt to /root/nltk_data...\n",
            "[nltk_data]   Package punkt is already up-to-date!\n",
            "Requirement already satisfied: gensim in /usr/local/lib/python3.7/dist-packages (3.6.0)\n",
            "Requirement already satisfied: smart-open>=1.2.1 in /usr/local/lib/python3.7/dist-packages (from gensim) (4.2.0)\n",
            "Requirement already satisfied: six>=1.5.0 in /usr/local/lib/python3.7/dist-packages (from gensim) (1.15.0)\n",
            "Requirement already satisfied: scipy>=0.18.1 in /usr/local/lib/python3.7/dist-packages (from gensim) (1.4.1)\n",
            "Requirement already satisfied: numpy>=1.11.3 in /usr/local/lib/python3.7/dist-packages (from gensim) (1.19.5)\n"
          ],
          "name": "stdout"
        }
      ]
    },
    {
      "cell_type": "code",
      "metadata": {
        "id": "0c23p8oEQi2K"
      },
      "source": [
        "def get_indices(data,dev_data=None, test_data=None):\n",
        "\n",
        "    l1 = len(data)\n",
        "    l2, l3 = 0, 0\n",
        "\n",
        "    if dev_data:\n",
        "        data.extend(dev_data)\n",
        "        l2 = len(dev_data)\n",
        "    if test_data:\n",
        "        data.extend(test_data)\n",
        "        l3 = len(test_data)\n",
        "\n",
        "    goog_w2v_path = '/content/drive/MyDrive/Colab Notebooks/DL/a3/GoogleNews-vectors-negative300.bin'\n",
        "    model = KeyedVectors.load_word2vec_format(goog_w2v_path, binary=True)\n",
        "    vocab_dict = {}\n",
        "    weights = [model['pad'], model['unk']]\n",
        "    for i, sentence in enumerate(data):\n",
        "        for j, token in enumerate(sentence):\n",
        "\n",
        "            if token in vocab_dict:\n",
        "                sentence[j] = vocab_dict[token]\n",
        "            else:\n",
        "                if token in model.vocab:\n",
        "                    weights.append(model[token])\n",
        "                    vocab_dict[token] = len(weights) - 1\n",
        "                    sentence[j] = len(weights) - 1\n",
        "                elif token == '<pad>':\n",
        "                    sentence[j] = 0\n",
        "                else:\n",
        "                    sentence[j] = 1\n",
        "        data[i] = sentence\n",
        "\n",
        "    return data[0:l1], data[l1:l1+l2], data[l1+l2:l1+l2+l3], weights\n",
        "\n",
        "\n",
        "def tokenize(data, max_len=None):\n",
        "    data = [sentence.split(' ')[0:max_len] for sentence in data]\n",
        "    max_sentence = len(max(data, key=len))\n",
        "    return data, max_sentence"
      ],
      "execution_count": 3,
      "outputs": []
    },
    {
      "cell_type": "code",
      "metadata": {
        "id": "1GBpzkDWlYGJ"
      },
      "source": [
        "def clean_str(string):\n",
        "\n",
        "    string = re.sub(r\"[^A-Za-z0-9(),!?\\'\\`]\", \" \", string)\n",
        "    string = re.sub(r\"\\'s\", \"\", string)\n",
        "    string = re.sub(r\"\\'ve\", \"\", string)\n",
        "    string = re.sub(r\"n\\'t\", \"\", string)\n",
        "    string = re.sub(r\"\\'re\", \"\", string)\n",
        "    string = re.sub(r\"\\'d\", \"\", string)\n",
        "    string = re.sub(r\"\\'ll\", \"\", string)\n",
        "    string = re.sub(r\",\", \"\", string)\n",
        "    string = re.sub(r\"!\", \"\", string)\n",
        "    string = re.sub(r\"\\(\", \"\", string)\n",
        "    string = re.sub(r\"\\)\", \"\", string)\n",
        "    string = re.sub(r\"\\?\", \"\", string)\n",
        "    string = re.sub(r\"\\s{2,}\", \" \", string)\n",
        "  \n",
        "    return string.strip().lower()\n",
        "\n",
        "def pad(data, max_sen_len):\n",
        "    for i in range(len(data)):\n",
        "        sentence = data[i]\n",
        "        if len(sentence) < max_sen_len:\n",
        "            diff = max_sen_len - len(sentence)\n",
        "            sentence.extend(['<pad>' for _ in range(diff)])\n",
        "        data[i] = sentence\n",
        "    return data"
      ],
      "execution_count": 4,
      "outputs": []
    },
    {
      "cell_type": "code",
      "metadata": {
        "id": "rJbQwGhCFdl7"
      },
      "source": [
        " # Label: Description = 0, Entity = 1, Abbreviation = 2, Human = 3, Number = 4, Location = 5\"\n",
        "# opening the dataset and reading it line by line\n",
        "line_list = list(open(\"/content/drive/MyDrive/Colab Notebooks/DL/a3/Trec_Train_dataset.txt\", \"r\",encoding='ISO-8859-1').readlines())\n",
        "label_ids = {\"DESC:\": 0, \"ENTY:\": 1, \"ABBR:\": 2, \"HUM:\": 3, \"NUM:\": 4, \"LOC:\": 5}\n",
        "data = []\n",
        "labels = [] "
      ],
      "execution_count": 5,
      "outputs": []
    },
    {
      "cell_type": "code",
      "metadata": {
        "id": "XYo8AkQxZXDC",
        "colab": {
          "base_uri": "https://localhost:8080/"
        },
        "outputId": "59f69fad-a759-4b5a-fcef-28a90a137dfc"
      },
      "source": [
        "len(labels)"
      ],
      "execution_count": 28,
      "outputs": [
        {
          "output_type": "execute_result",
          "data": {
            "text/plain": [
              "5452"
            ]
          },
          "metadata": {
            "tags": []
          },
          "execution_count": 28
        }
      ]
    },
    {
      "cell_type": "code",
      "metadata": {
        "id": "XFwxl-X7Y-BY"
      },
      "source": [
        "for line in line_list:\n",
        "  for label in label_ids:\n",
        "    if label in line:\n",
        "      # Append label number to labels\n",
        "      labels.append(label_ids[label])\n",
        "      remove = \"\"\n",
        "      for i in line:\n",
        "        if i == \" \":\n",
        "          break\n",
        "        remove += i\n",
        "      # Remove the label from the front of the string\n",
        "      data.append(line.replace(remove + \" \", \"\")[:-1])"
      ],
      "execution_count": 6,
      "outputs": []
    },
    {
      "cell_type": "code",
      "metadata": {
        "id": "n04w6b_3ZdOq",
        "colab": {
          "base_uri": "https://localhost:8080/"
        },
        "outputId": "393e9b1d-b203-420d-cada-f75b155d6a7d"
      },
      "source": [
        "data\n",
        "len(data)\n",
        "labels\n",
        "data1 = [clean_str(s.strip()) for s in data]\n",
        "len(data1)\n"
      ],
      "execution_count": 11,
      "outputs": [
        {
          "output_type": "execute_result",
          "data": {
            "text/plain": [
              "5452"
            ]
          },
          "metadata": {
            "tags": []
          },
          "execution_count": 11
        }
      ]
    },
    {
      "cell_type": "code",
      "metadata": {
        "id": "RV5-RkCQUUN1"
      },
      "source": [
        "##############  TRAIN DATA and TEST DATA\n",
        "train_data = data1[:4362]\n",
        "test_data = data1[4362:]\n",
        "\n",
        "train_labels = labels[:4362]\n",
        "test_labels = labels[4362:]\n"
      ],
      "execution_count": 16,
      "outputs": []
    },
    {
      "cell_type": "code",
      "metadata": {
        "id": "dc8-yGEaU6Vm"
      },
      "source": [
        "#################  TOKENIZE ####################\n",
        "train_data, train_max_sen_len = tokenize(train_data)\n",
        "test_data, test_max_sen_len = tokenize(test_data)"
      ],
      "execution_count": 17,
      "outputs": []
    },
    {
      "cell_type": "code",
      "metadata": {
        "id": "NBuQ1LbJVMfS"
      },
      "source": [
        "max_sen_len = max(train_max_sen_len, test_max_sen_len)"
      ],
      "execution_count": 31,
      "outputs": []
    },
    {
      "cell_type": "code",
      "metadata": {
        "colab": {
          "base_uri": "https://localhost:8080/"
        },
        "id": "TXxMtQTWceSJ",
        "outputId": "592ecfb9-f522-4d54-efcf-d9d00016282e"
      },
      "source": [
        "max_sen_len"
      ],
      "execution_count": 34,
      "outputs": [
        {
          "output_type": "execute_result",
          "data": {
            "text/plain": [
              "33"
            ]
          },
          "metadata": {
            "tags": []
          },
          "execution_count": 34
        }
      ]
    },
    {
      "cell_type": "code",
      "metadata": {
        "id": "Vh49iivzVQ6m"
      },
      "source": [
        "train_data = pad(train_data, max_sen_len)\n",
        "test_data = pad(test_data, max_sen_len)"
      ],
      "execution_count": 19,
      "outputs": []
    },
    {
      "cell_type": "code",
      "metadata": {
        "id": "BjcmCKU1VVm1"
      },
      "source": [
        "train_data, test_data, _, weights = get_indices(train_data, test_data)"
      ],
      "execution_count": 20,
      "outputs": []
    },
    {
      "cell_type": "code",
      "metadata": {
        "id": "uYLazVr0Wj5C"
      },
      "source": [
        ""
      ],
      "execution_count": null,
      "outputs": []
    },
    {
      "cell_type": "code",
      "metadata": {
        "id": "pkLG9LKnZA7z"
      },
      "source": [
        "import torch\n",
        "import torch.nn as nn\n",
        "import torch.nn.functional as F\n",
        "\n",
        "from gensim.models import KeyedVectors\n",
        "\n",
        "class Net(nn.Module):\n",
        "    def __init__(self, EMBEDDINGS, BATCH_SIZE, M_TYPE='NOT_STATIC', N_KERN=100, E_DIMS=300, E_NUMB=662109, DROP=0, C_SIZE=2, TRAIN=True, M_SENT_LEN=40):\n",
        "        super(Net, self).__init__()\n",
        "\n",
        "        # Need to update the way arguments are passed into this, C_SIZE, M_SENT_LEN are incorrect values\n",
        "        self.EMBEDDINGS = EMBEDDINGS\n",
        "        self.BATCH_SIZE = BATCH_SIZE\n",
        "        self.M_TYPE = M_TYPE\n",
        "        self.E_DIMS = E_DIMS\n",
        "        self.E_NUMB = E_NUMB\n",
        "        self.N_KERN = N_KERN\n",
        "        self.DROP   = DROP\n",
        "        self.C_SIZE = C_SIZE\n",
        "        self.TRAIN  = TRAIN\n",
        "        self.M_S_L  = M_SENT_LEN\n",
        "        self.NUM_INPUT_C = 1\n",
        "\n",
        "        # path = 'data/embedding_models/GoogleNews-vectors-negative300.bin'\n",
        "        # embedding_model = KeyedVectors.load_word2vec_format(path, binary=True)\n",
        "        # weights = torch.FloatTensor(embedding_model.vectors)\n",
        "\n",
        "        vocab_size = len(EMBEDDINGS)\n",
        "        print(f'VOCAB SIZE = {vocab_size}')\n",
        "        weights = torch.FloatTensor(EMBEDDINGS)\n",
        "\n",
        "        if M_TYPE == 'RANDOM':\n",
        "            self.embedding = nn.Embedding(num_embeddings=vocab_size, embedding_dim=E_DIMS, padding_idx=0)\n",
        "        elif M_TYPE == 'NOT_STATIC':\n",
        "            self.embedding = nn.Embedding.from_pretrained(weights, freeze=False, padding_idx=0)\n",
        "        elif M_TYPE == 'STATIC':\n",
        "            self.embedding = nn.Embedding.from_pretrained(weights, freeze=True, padding_idx=0)\n",
        "        elif M_TYPE == 'MULTI':\n",
        "            self.embedding = nn.Embedding.from_pretrained(weights, freeze=False, padding_idx=0)\n",
        "            self.embedding_static = nn.Embedding.from_pretrained(weights, freeze=True, padding_idx=0)\n",
        "            self.NUM_INPUT_C = 2\n",
        "        else:\n",
        "            print('Invalid M_TYPE')\n",
        "            return\n",
        "\n",
        "        '''\n",
        "        # For testing\n",
        "        self.embedding = nn.Embedding(E_DIMS, E_NUMB)\n",
        "        '''\n",
        "        # nn.Conv2d(n_inp, n_outp, kern_size, stride)\n",
        "        self.conv1 = nn.Conv2d(self.NUM_INPUT_C, N_KERN, (3, E_DIMS), 1)\n",
        "        self.conv2 = nn.Conv2d(self.NUM_INPUT_C, N_KERN, (4, E_DIMS), 1)\n",
        "        self.conv3 = nn.Conv2d(self.NUM_INPUT_C, N_KERN, (5, E_DIMS), 1)\n",
        "        self.dropout = nn.Dropout(DROP)\n",
        "        self.fc1   = nn.Linear(3*N_KERN, C_SIZE)       \n",
        "        \n",
        "    def forward(self, x):\n",
        "\n",
        "        \n",
        "        if self.M_TYPE == 'MULTI':\n",
        "            x_s = self.embedding_static(x)\n",
        "            x_s = x_s.view((-1, 1, self.M_S_L, self.E_DIMS))\n",
        "            x = self.embedding(x)\n",
        "            x = x.view((-1, 1, self.M_S_L, self.E_DIMS))\n",
        "            x = torch.cat((x_s, x), dim=1) # Concatenate along \"Cin\" dimension\n",
        "        else:\n",
        "            x = self.embedding(x)\n",
        "            x = x.view((-1, 1, self.M_S_L, self.E_DIMS))\n",
        "\n",
        "        '''\n",
        "        if self.TYPE == 'STATIC':\n",
        "            x = torch.autograd.Variable(x)\n",
        "        '''\n",
        "\n",
        "        x_f1 = F.max_pool1d(F.relu(self.conv1(x)).squeeze(3), self.M_S_L - 3)\n",
        "        x_f2 = F.max_pool1d(F.relu(self.conv2(x)).squeeze(3), self.M_S_L - 3)\n",
        "        x_f3 = F.max_pool1d(F.relu(self.conv3(x)).squeeze(3), self.M_S_L - 4)\n",
        "        x = torch.cat((x_f1, x_f2, x_f3), 1)\n",
        "        \n",
        "        x = self.dropout(x)\n",
        "        x = self.fc1(x.squeeze(2))\n",
        "        \n",
        "        return x\n"
      ],
      "execution_count": 23,
      "outputs": []
    },
    {
      "cell_type": "code",
      "metadata": {
        "id": "Nbx9hiZvZA-_"
      },
      "source": [
        "import torch\n",
        "import torch.nn as nn\n",
        "import numpy as np\n",
        "import time\n",
        "import datetime\n",
        "from sklearn.model_selection import train_test_split\n",
        "import argparse\n",
        "import os\n",
        "import matplotlib.pyplot as plt\n",
        "\n"
      ],
      "execution_count": 39,
      "outputs": []
    },
    {
      "cell_type": "code",
      "metadata": {
        "colab": {
          "base_uri": "https://localhost:8080/",
          "height": 1000
        },
        "id": "Lu31Ys9TZq0W",
        "outputId": "ca5f4ae2-7cb2-4f20-b1cb-988d15f045af"
      },
      "source": [
        "def train_model(OPTIMIZER = 'SGD' ):\n",
        "\n",
        "  x_train, y_train, x_test, y_test, max_sen_len, n_classes, weights1 = train_data,train_labels,test_data,test_labels,33,6,weights\n",
        "    \n",
        "\n",
        "  if torch.cuda.is_available():\n",
        "    device = torch.device(\"cuda:0\")\n",
        "    print(\"Running on the GPU\")\n",
        "  else:\n",
        "    device = torch.device(\"cpu\")\n",
        "    print(\"Running on the CPU\")\n",
        "\n",
        "  x_train_tensor = torch.LongTensor(x_train)\n",
        "  y_train_tensor = torch.LongTensor(y_train)\n",
        "  x_test_tensor = torch.LongTensor(x_test).to(device)\n",
        "  y_test_tensor = torch.LongTensor(y_test).to(device)\n",
        "\n",
        "  train_dataset = torch.utils.data.TensorDataset(x_train_tensor, y_train_tensor)\n",
        "    # trainloader = torch.utils.data.DataLoader(train_dataset, batch_size=BATCH, shuffle=True)\n",
        "\n",
        "  cnn = Net(EMBEDDINGS=weights1, BATCH_SIZE=50, M_TYPE='NOT_STATIC', E_DIMS=300, M_SENT_LEN=max_sen_len, DROP=0.5, C_SIZE=n_classes).to(device)\n",
        "\n",
        "  criterion = nn.CrossEntropyLoss()\n",
        "  if OPTIMIZER == 'SGD':\n",
        "      optimizer = torch.optim.SGD(cnn.parameters(), lr=0.1, momentum=0.9)\n",
        "  elif OPTIMIZER == 'ADADELTA':\n",
        "      optimizer = torch.optim.Adadelta(cnn.parameters(), lr=0.1, weight_decay=0.01)\n",
        "  elif OPTIMIZER == 'ADAM':\n",
        "      optimizer = torch.optim.Adam(cnn.parameters(), lr=0.1, weight_decay=0.01)\n",
        "  else:\n",
        "      print('No optimizer specified')\n",
        "      return\n",
        "  train_loss_history = []\n",
        "  train_acc_history = []\n",
        "  valid_loss_history = []\n",
        "  valid_acc_history = []\n",
        "  N_EPOCHS = 50\n",
        "  for epoch in range(N_EPOCHS):\n",
        "    if epoch > 3:\n",
        "      if abs(train_loss_history[-1] - train_loss_history[-2]) < 0.0001 and abs(train_loss_history[-2] - train_loss_history[-3]) < 0.0001:\n",
        "        break\n",
        "\n",
        "    epoch_start = time.time()\n",
        "    # print(f'===== EPOCH {epoch + 1}/{N_EPOCHS} =====', file=f)\n",
        "    # print(f'===== EPOCH {epoch + 1}/{N_EPOCHS} =====')\n",
        "    one_epoch_acc_history = []\n",
        "    one_epoch_loss_history = []\n",
        "\n",
        "    cnn.train()\n",
        "    trainloader = torch.utils.data.DataLoader(train_dataset, batch_size=50, shuffle=True)\n",
        "\n",
        "    for i, data in enumerate(trainloader, 0):\n",
        "      # get the inputs; data is a list of [inputs, labels]\n",
        "      inputs, labels = data\n",
        "      inputs, labels = inputs.to(device), labels.to(device)\n",
        "\n",
        "      # zero the parameter gradients\n",
        "      optimizer.zero_grad()\n",
        "        \n",
        "      # forward + backward + optimize\n",
        "      outputs = cnn(inputs)\n",
        "      loss = criterion(outputs, labels)\n",
        "      loss.backward()\n",
        "      optimizer.step()\n",
        "\n",
        "      # calculate mini-batch training accuracy\n",
        "      predictions = torch.argmax(outputs, dim=1).detach()\n",
        "      acc = (predictions == labels).sum().item() / len(labels)\n",
        "      one_epoch_acc_history.append(acc)\n",
        "      PRINT_FREQ = 75\n",
        "      # print mini-batch statistics\n",
        "      minibatch_loss = loss.item()\n",
        "      one_epoch_loss_history.append(minibatch_loss)\n",
        "      if i % PRINT_FREQ == PRINT_FREQ - 1: \n",
        "        # print every PRINT_FREQ mini-batches\n",
        "        print('[%d, %3d] train loss: %.4f train acc: %.4f' % (epoch + 1, i + 1, minibatch_loss, acc))\n",
        "\n",
        "    train_loss = np.mean(one_epoch_loss_history)\n",
        "    train_acc = np.mean(one_epoch_acc_history)\n",
        "  \n",
        "\n",
        "        # run validation data\n",
        "    with torch.no_grad():\n",
        "      cnn.eval()\n",
        "      outputs = cnn(x_test_tensor)\n",
        "      valid_loss = criterion(outputs, y_test_tensor).item()\n",
        "    valid_predictions = torch.argmax(outputs, dim=1).detach()\n",
        "    valid_n_correct = (valid_predictions == y_test_tensor).sum().item()\n",
        "    valid_acc = valid_n_correct / len(y_test_tensor)\n",
        "\n",
        "\n",
        "        # save average loss, acc for this epoch\n",
        "    train_loss_history.append(train_loss)\n",
        "    train_acc_history.append(train_acc)\n",
        "    valid_loss_history.append(valid_loss)\n",
        "    valid_acc_history.append(valid_acc)\n",
        "    print(f'EPOCH TIME: {(time.time() - epoch_start):.2f}s')\n",
        "\n",
        "  # print('Finished Training', file=f)\n",
        "  print('Finished Training')\n",
        "\n",
        "\n",
        "  # f.close()\n",
        "\n",
        "  fig, axs = plt.subplots(2, 1, figsize=(12, 4))\n",
        "  plt.subplot(1, 2, 1)\n",
        "  plt.plot(train_loss_history, label='training loss')\n",
        "  plt.plot(valid_loss_history, label='test loss')\n",
        "  plt.title(' Dataset - {Non- STATIC} - Loss')\n",
        "  plt.xlabel('Epoch')\n",
        "  plt.ylabel('Loss')\n",
        "  plt.legend()\n",
        "    # plt.savefig(f'{name}_LOSS')\n",
        "\n",
        "  plt.subplot(1, 2, 2)\n",
        "  plt.plot(train_acc_history, label='training acc')\n",
        "  plt.plot(valid_acc_history, label='test acc')\n",
        "  plt.title(' Dataset - {Non- STATIC} Accuracy')\n",
        "  plt.xlabel('Epoch')\n",
        "  plt.ylabel('Accuracy')\n",
        "  plt.legend()\n",
        "\n",
        "  fig_name = 'one'\n",
        "  plt.savefig(fig_name)\n",
        "\n",
        "  return cnn, max(valid_acc_history)\n",
        "\n",
        "\n",
        "if __name__ == '__main__':\n",
        "\n",
        "    print()\n",
        "\n",
        "\n",
        "    cnn = train_model()\n"
      ],
      "execution_count": 50,
      "outputs": [
        {
          "output_type": "stream",
          "text": [
            "\n",
            "Running on the GPU\n",
            "VOCAB SIZE = 7259\n",
            "[1,  75] train loss: 0.5851 train acc: 0.8400\n",
            "EPOCH TIME: 0.45s\n",
            "[2,  75] train loss: 0.3597 train acc: 0.8800\n",
            "EPOCH TIME: 0.36s\n",
            "[3,  75] train loss: 0.2095 train acc: 0.9600\n",
            "EPOCH TIME: 0.38s\n",
            "[4,  75] train loss: 0.0991 train acc: 0.9800\n",
            "EPOCH TIME: 0.35s\n",
            "[5,  75] train loss: 0.0703 train acc: 0.9600\n",
            "EPOCH TIME: 0.34s\n",
            "[6,  75] train loss: 0.0432 train acc: 1.0000\n",
            "EPOCH TIME: 0.35s\n",
            "[7,  75] train loss: 0.0356 train acc: 0.9800\n",
            "EPOCH TIME: 0.35s\n",
            "[8,  75] train loss: 0.0232 train acc: 1.0000\n",
            "EPOCH TIME: 0.35s\n",
            "[9,  75] train loss: 0.0335 train acc: 0.9800\n",
            "EPOCH TIME: 0.35s\n",
            "[10,  75] train loss: 0.0074 train acc: 1.0000\n",
            "EPOCH TIME: 0.37s\n",
            "[11,  75] train loss: 0.0171 train acc: 1.0000\n",
            "EPOCH TIME: 0.38s\n",
            "[12,  75] train loss: 0.0040 train acc: 1.0000\n",
            "EPOCH TIME: 0.36s\n",
            "[13,  75] train loss: 0.0309 train acc: 0.9800\n",
            "EPOCH TIME: 0.38s\n",
            "[14,  75] train loss: 0.0247 train acc: 0.9800\n",
            "EPOCH TIME: 0.38s\n",
            "[15,  75] train loss: 0.0035 train acc: 1.0000\n",
            "EPOCH TIME: 0.37s\n",
            "[16,  75] train loss: 0.0051 train acc: 1.0000\n",
            "EPOCH TIME: 0.35s\n",
            "[17,  75] train loss: 0.0015 train acc: 1.0000\n",
            "EPOCH TIME: 0.35s\n",
            "[18,  75] train loss: 0.0076 train acc: 1.0000\n",
            "EPOCH TIME: 0.34s\n",
            "[19,  75] train loss: 0.0061 train acc: 1.0000\n",
            "EPOCH TIME: 0.35s\n",
            "[20,  75] train loss: 0.0010 train acc: 1.0000\n",
            "EPOCH TIME: 0.34s\n",
            "[21,  75] train loss: 0.0006 train acc: 1.0000\n",
            "EPOCH TIME: 0.35s\n",
            "[22,  75] train loss: 0.0121 train acc: 1.0000\n",
            "EPOCH TIME: 0.35s\n",
            "[23,  75] train loss: 0.0047 train acc: 1.0000\n",
            "EPOCH TIME: 0.35s\n",
            "[24,  75] train loss: 0.0020 train acc: 1.0000\n",
            "EPOCH TIME: 0.36s\n",
            "[25,  75] train loss: 0.0033 train acc: 1.0000\n",
            "EPOCH TIME: 0.35s\n",
            "[26,  75] train loss: 0.0010 train acc: 1.0000\n",
            "EPOCH TIME: 0.35s\n",
            "[27,  75] train loss: 0.0021 train acc: 1.0000\n",
            "EPOCH TIME: 0.35s\n",
            "[28,  75] train loss: 0.0187 train acc: 0.9800\n",
            "EPOCH TIME: 0.35s\n",
            "[29,  75] train loss: 0.0025 train acc: 1.0000\n",
            "EPOCH TIME: 0.37s\n",
            "[30,  75] train loss: 0.0012 train acc: 1.0000\n",
            "EPOCH TIME: 0.35s\n",
            "[31,  75] train loss: 0.0004 train acc: 1.0000\n",
            "EPOCH TIME: 0.34s\n",
            "[32,  75] train loss: 0.0064 train acc: 1.0000\n",
            "EPOCH TIME: 0.38s\n",
            "[33,  75] train loss: 0.0016 train acc: 1.0000\n",
            "EPOCH TIME: 0.36s\n",
            "[34,  75] train loss: 0.0026 train acc: 1.0000\n",
            "EPOCH TIME: 0.35s\n",
            "Finished Training\n"
          ],
          "name": "stdout"
        },
        {
          "output_type": "display_data",
          "data": {
            "image/png": "[encoded data removed]",
            "text/plain": [
              "<Figure size 864x288 with 2 Axes>"
            ]
          },
          "metadata": {
            "tags": [],
            "needs_background": "light"
          }
        }
      ]
    },
    {
      "cell_type": "code",
      "metadata": {
        "id": "xygvCzV-WkIZ"
      },
      "source": [
        ""
      ],
      "execution_count": null,
      "outputs": []
    },
    {
      "cell_type": "code",
      "metadata": {
        "colab": {
          "base_uri": "https://localhost:8080/"
        },
        "id": "i0z7jGGzRvRk",
        "outputId": "e1279e94-b9f6-4c12-f1d5-a7f8bed4b373"
      },
      "source": [
        "import joblib\n",
        "\n",
        "filename = 'data111.sav'\n",
        "joblib.dump(train_data1, filename)\n",
        "\n",
        "filename1 = 'weights111.sav'\n",
        "joblib.dump(weights, filename1)"
      ],
      "execution_count": 20,
      "outputs": [
        {
          "output_type": "execute_result",
          "data": {
            "text/plain": [
              "['weights111.sav']"
            ]
          },
          "metadata": {
            "tags": []
          },
          "execution_count": 20
        }
      ]
    }
  ]
}